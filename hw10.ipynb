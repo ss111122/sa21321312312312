{
 "cells": [
  {
   "cell_type": "code",
   "execution_count": 6,
   "id": "a7cb0c8a",
   "metadata": {
    "deletable": false,
    "editable": false
   },
   "outputs": [],
   "source": [
    "# Initialize Otter\n",
    "import otter\n",
    "grader = otter.Notebook(\"hw10.ipynb\")"
   ]
  },
  {
   "cell_type": "markdown",
   "id": "125dfc5a",
   "metadata": {},
   "source": [
    "# Homework 10: Linear Regression"
   ]
  },
  {
   "cell_type": "markdown",
   "id": "7b9406ca",
   "metadata": {},
   "source": [
    "**Helpful Resource:**\n",
    "\n",
    "- [Python Reference](http://data8.org/sp22/python-reference.html): Cheat sheet of helpful array & table methods used in Data 8!\n",
    "\n",
    "**Recommended Readings**: \n",
    "\n",
    "* [The Regression Line](https://www.inferentialthinking.com/chapters/15/2/Regression_Line.html)\n",
    "* [Method of Least Squares](https://www.inferentialthinking.com/chapters/15/3/Method_of_Least_Squares.html)\n",
    "* [Least Squares Regression](https://www.inferentialthinking.com/chapters/15/4/Least_Squares_Regression.html)"
   ]
  },
  {
   "cell_type": "markdown",
   "id": "f18f280f",
   "metadata": {},
   "source": [
    "Please complete this notebook by filling in the cells provided. Before you begin, execute the following cell to setup the notebook by importing some helpful libraries. Each time you start your server, you will need to execute this cell again.\n",
    "\n",
    "For all problems that you must write explanations and sentences for, you **must** provide your answer in the designated space. **Moreover, throughout this homework and all future ones, please be sure to not re-assign variables throughout the notebook!** For example, if you use `max_temperature` in your answer to one question, do not reassign it later on. Otherwise, you will fail tests that you thought you were passing previously!\n",
    "\n",
    "\n",
    "**Note: This homework has hidden tests on it. That means even though the tests may say 100% passed, it doesn't mean your final grade will be 100%. We will be running more tests for correctness once everyone turns in the homework.**\n",
    "\n",
    "\n",
    "Directly sharing answers is not okay, but discussing problems with the course staff or with other students is encouraged. \n",
    "\n",
    "You should start early so that you have time to get help if you're stuck."
   ]
  },
  {
   "cell_type": "code",
   "execution_count": 7,
   "id": "a5f07ee9",
   "metadata": {
    "execution": {
     "iopub.execute_input": "2022-04-07T03:32:57.413696Z",
     "iopub.status.busy": "2022-04-07T03:32:57.413416Z",
     "iopub.status.idle": "2022-04-07T03:32:58.917362Z",
     "shell.execute_reply": "2022-04-07T03:32:58.916637Z"
    }
   },
   "outputs": [],
   "source": [
    "# Run this cell to set up the notebook, but please don't change it.\n",
    "\n",
    "import numpy as np\n",
    "from datascience import *\n",
    "\n",
    "# These lines do some fancy plotting magic.\n",
    "import matplotlib\n",
    "%matplotlib inline\n",
    "import matplotlib.pyplot as plt\n",
    "plt.style.use('fivethirtyeight')\n",
    "import warnings\n",
    "warnings.simplefilter('ignore', FutureWarning)\n",
    "from datetime import datetime"
   ]
  },
  {
   "cell_type": "markdown",
   "id": "6cb47ec8",
   "metadata": {},
   "source": [
    "## 1. Free Throws vs. 3 Point Shots"
   ]
  },
  {
   "cell_type": "markdown",
   "id": "b3827e84",
   "metadata": {},
   "source": [
    "Does having a skill in one area of basketball shooting imply skill in another? While both [free throws](https://en.wikipedia.org/wiki/Free_throw) and [three-point shots](https://en.wikipedia.org/wiki/Three-point_field_goal) require precision and technique, they differ significantly in their execution. This exercise investigates whether players who excel at free throws also tend to perform well at three-point shots.\n",
    "Since we're learning about linear regression, we will look specifically for a linear association between skill level in the two types of shots.\n",
    "\n",
    "\n",
    "The dataset includes the 2023-2024 free throw percentages (FT %) and three-point percentages (3PT %) for 50 NBA players. We have selected players with the highest free throw percentages to examine if this skill correlates with a high three-point shooting percentage. In the NBA, a three-point percentage over 35% is considered good, and over 40% is considered excellent.\n",
    "\n",
    "\n",
    "\n"
   ]
  },
  {
   "cell_type": "code",
   "execution_count": 8,
   "id": "e40f06e9",
   "metadata": {
    "ExecuteTime": {
     "end_time": "2018-04-03T22:42:22.463984Z",
     "start_time": "2018-04-03T22:42:22.455963Z"
    },
    "execution": {
     "iopub.execute_input": "2022-04-07T03:32:58.921192Z",
     "iopub.status.busy": "2022-04-07T03:32:58.920972Z",
     "iopub.status.idle": "2022-04-07T03:32:58.953207Z",
     "shell.execute_reply": "2022-04-07T03:32:58.952354Z"
    },
    "scrolled": true
   },
   "outputs": [
    {
     "data": {
      "text/html": [
       "<table border=\"1\" class=\"dataframe\">\n",
       "    <thead>\n",
       "        <tr>\n",
       "            <th>FT %</th> <th>3PT %</th>\n",
       "        </tr>\n",
       "    </thead>\n",
       "    <tbody>\n",
       "        <tr>\n",
       "            <td>92.7</td> <td>38.7 </td>\n",
       "        </tr>\n",
       "        <tr>\n",
       "            <td>92.3</td> <td>40.8 </td>\n",
       "        </tr>\n",
       "        <tr>\n",
       "            <td>92.1</td> <td>37.4 </td>\n",
       "        </tr>\n",
       "        <tr>\n",
       "            <td>92  </td> <td>35.4 </td>\n",
       "        </tr>\n",
       "        <tr>\n",
       "            <td>91.6</td> <td>38.5 </td>\n",
       "        </tr>\n",
       "        <tr>\n",
       "            <td>90.7</td> <td>41.3 </td>\n",
       "        </tr>\n",
       "        <tr>\n",
       "            <td>90.5</td> <td>41.1 </td>\n",
       "        </tr>\n",
       "        <tr>\n",
       "            <td>90.1</td> <td>39.6 </td>\n",
       "        </tr>\n",
       "        <tr>\n",
       "            <td>89.9</td> <td>39.9 </td>\n",
       "        </tr>\n",
       "        <tr>\n",
       "            <td>88.6</td> <td>36.4 </td>\n",
       "        </tr>\n",
       "    </tbody>\n",
       "</table>\n",
       "<p>... (40 rows omitted)</p>"
      ],
      "text/plain": [
       "FT % | 3PT %\n",
       "92.7 | 38.7\n",
       "92.3 | 40.8\n",
       "92.1 | 37.4\n",
       "92   | 35.4\n",
       "91.6 | 38.5\n",
       "90.7 | 41.3\n",
       "90.5 | 41.1\n",
       "90.1 | 39.6\n",
       "89.9 | 39.9\n",
       "88.6 | 36.4\n",
       "... (40 rows omitted)"
      ]
     },
     "execution_count": 8,
     "metadata": {},
     "output_type": "execute_result"
    }
   ],
   "source": [
    "# Run this cell to load the data\n",
    "shots = Table.read_table('three_vs_freethrow.csv').select(\"FT %\",\"3PT %\")\n",
    "shots"
   ]
  },
  {
   "cell_type": "markdown",
   "id": "93b8d4fc",
   "metadata": {
    "deletable": false,
    "editable": false
   },
   "source": [
    "**Question 1.1.** Create a function `std_units` that converts the values in the array `data` to standard units. **(5 points)**\n"
   ]
  },
  {
   "cell_type": "code",
   "execution_count": 9,
   "id": "ca36a774",
   "metadata": {
    "execution": {
     "iopub.execute_input": "2022-04-07T03:32:58.956818Z",
     "iopub.status.busy": "2022-04-07T03:32:58.956278Z",
     "iopub.status.idle": "2022-04-07T03:32:58.960645Z",
     "shell.execute_reply": "2022-04-07T03:32:58.959860Z"
    },
    "tags": []
   },
   "outputs": [],
   "source": [
    "def std_units(data):\n",
    "    mean = np.mean(data)\n",
    "    std_dev = np.std(data)\n",
    "    return (data - mean) / std_dev"
   ]
  },
  {
   "cell_type": "code",
   "execution_count": 10,
   "id": "54ed47e3",
   "metadata": {
    "deletable": false,
    "editable": false
   },
   "outputs": [
    {
     "data": {
      "text/html": [
       "<p><strong><pre style='display: inline;'>q1_1</pre></strong> passed! 🌈</p>"
      ],
      "text/plain": [
       "q1_1 results: All test cases passed!"
      ]
     },
     "execution_count": 10,
     "metadata": {},
     "output_type": "execute_result"
    }
   ],
   "source": [
    "grader.check(\"q1_1\")"
   ]
  },
  {
   "cell_type": "markdown",
   "id": "14bbd47b",
   "metadata": {
    "deletable": false,
    "editable": false
   },
   "source": [
    "**Question 1.2.** Using the `std_units` function created previously, define a new function named `correlation` which computes the correlation coefficient between two arrays, `x` and `y`. **(5 points)**"
   ]
  },
  {
   "cell_type": "code",
   "execution_count": 11,
   "id": "e85d3b6a",
   "metadata": {
    "execution": {
     "iopub.execute_input": "2022-04-07T03:32:58.998339Z",
     "iopub.status.busy": "2022-04-07T03:32:58.997687Z",
     "iopub.status.idle": "2022-04-07T03:32:59.001531Z",
     "shell.execute_reply": "2022-04-07T03:32:59.000809Z"
    },
    "tags": []
   },
   "outputs": [],
   "source": [
    "def correlation(x, y):\n",
    "    x_std = std_units(x)\n",
    "    y_std = std_units(y)\n",
    "    return np.mean(x_std * y_std)"
   ]
  },
  {
   "cell_type": "code",
   "execution_count": 12,
   "id": "474b4e73",
   "metadata": {
    "deletable": false,
    "editable": false
   },
   "outputs": [
    {
     "data": {
      "text/html": [
       "<p><strong><pre style='display: inline;'>q1_2</pre></strong> passed! 🌈</p>"
      ],
      "text/plain": [
       "q1_2 results: All test cases passed!"
      ]
     },
     "execution_count": 12,
     "metadata": {},
     "output_type": "execute_result"
    }
   ],
   "source": [
    "grader.check(\"q1_2\")"
   ]
  },
  {
   "cell_type": "markdown",
   "id": "0a20bebf",
   "metadata": {
    "deletable": false,
    "editable": false
   },
   "source": [
    "<!-- BEGIN QUESTION -->\n",
    "\n",
    "**Question 1.3.** Visual analysis of data through plotting is a crucial step in statistical analysis as it helps identify patterns, trends, and potential outliers. Effective visualization can provide immediate insights that are not always obvious through numerical methods alone.\n",
    "\n",
    "Task: Create a scatter plot **that includes the regression line**, with the free throw percentages on the horizontal axis and the three-point percentages on vertical axis. **(5 points)**\n",
    "\n",
    "See the documentation on `scatter` [here](http://data8.org/datascience/_autosummary/datascience.tables.Table.scatter.html#datascience.tables.Table.scatter) for instructions on how to have Python draw the regression line automatically.\n",
    "\n",
    "*Hint:* The `fit_line` argument may be useful here!"
   ]
  },
  {
   "cell_type": "code",
   "execution_count": 13,
   "id": "37d07381",
   "metadata": {
    "ExecuteTime": {
     "end_time": "2018-04-03T07:28:04.288689Z",
     "start_time": "2018-04-03T07:28:04.108660Z"
    },
    "deletable": false,
    "execution": {
     "iopub.execute_input": "2022-04-07T03:32:59.041336Z",
     "iopub.status.busy": "2022-04-07T03:32:59.041042Z",
     "iopub.status.idle": "2022-04-07T03:32:59.332567Z",
     "shell.execute_reply": "2022-04-07T03:32:59.331877Z"
    },
    "manual_problem_id": "jumping_1",
    "tags": []
   },
   "outputs": [
    {
     "data": {
      "image/png": "[encoded data removed]",
      "text/plain": [
       "<Figure size 500x500 with 1 Axes>"
      ]
     },
     "metadata": {},
     "output_type": "display_data"
    }
   ],
   "source": [
    "shots.scatter('FT %', '3PT %', fit_line=True)"
   ]
  },
  {
   "cell_type": "markdown",
   "id": "41944afd",
   "metadata": {
    "deletable": false,
    "editable": false
   },
   "source": [
    "<!-- END QUESTION -->\n",
    "\n",
    "<!-- BEGIN QUESTION -->\n",
    "\n",
    "**Question 1.4.** By examining the scatter plot provided, with free throw percentages (FT %)  on the horizontal axis and three point (3PT %) on the vertical axis, estimate the correlation coefficient r. Does r appear to be closest to 0, 0.5, or -0.5? Justify your answer with an explanation based on the trend observed in the plot.\n",
    "\n",
    " **(5 points)**\n"
   ]
  },
  {
   "cell_type": "markdown",
   "id": "9b6ad6f5",
   "metadata": {},
   "source": [
    "The points show a slight upward trend, indicating a positive relatoinship between free throw percentages and 3pt percentages. But those points are not tighly clustered aroudn the regression line, suggesting that the relationship is not very strong. The correlation coefficient r appears to be closest to 0.5 based on the slight positive linear relationship between the two variables."
   ]
  },
  {
   "cell_type": "markdown",
   "id": "aadb07bb",
   "metadata": {
    "deletable": false,
    "editable": false
   },
   "source": [
    "<!-- END QUESTION -->\n",
    "\n",
    "**Question 1.5.** In order to understand the relationship between two basketball statistics, such as free throw percentages (FT%) and three-point percentages (3PT %), it's useful to calculate key regression statistics that summarize this relationship.\n",
    "\n",
    "Develop a function named `compute_regression_stats` that takes in the argument `tbl`, a data table with two columns. The first column is the x-axis (the explanatory variable), and the second column is the y-axis (the response variable). The function should return an array with three elements: **(1) The correlation coefficient** of the two columns, and the **(2) slope** and **(3) intercept** of the regression line that predicts the second column from the first, in original units. **(5 points)**\n",
    "\n",
    "*Hint:* This is a rare occasion where it’s better to implement the function using column indices instead of column names, in order to be able to call this function on any table. If you need a reminder about how to use column indices to pull out individual columns, please refer to [this](https://www.inferentialthinking.com/chapters/06/Tables.html#accessing-the-data-in-a-column) section of the textbook."
   ]
  },
  {
   "cell_type": "code",
   "execution_count": 14,
   "id": "d0c75233",
   "metadata": {
    "ExecuteTime": {
     "end_time": "2018-04-03T22:42:28.451495Z",
     "start_time": "2018-04-03T22:42:28.441469Z"
    },
    "execution": {
     "iopub.execute_input": "2022-04-07T03:32:59.339558Z",
     "iopub.status.busy": "2022-04-07T03:32:59.339319Z",
     "iopub.status.idle": "2022-04-07T03:32:59.346558Z",
     "shell.execute_reply": "2022-04-07T03:32:59.345782Z"
    },
    "for_assignment_type": "solution",
    "tags": []
   },
   "outputs": [
    {
     "name": "stdout",
     "output_type": "stream",
     "text": [
      "r: 0.11003088267167974 ; slope: 0.06260718760951046 ; intercept: 33.00485218065394\n"
     ]
    }
   ],
   "source": [
    "def compute_regression_stats(tbl):\n",
    "    \n",
    "    # Return two columns as arrays\n",
    "    x = tbl.column(0)\n",
    "    y = tbl.column(1)\n",
    "    \n",
    "    # Calculate correlation coefficient\n",
    "    x_std = std_units(x)\n",
    "    y_std = std_units(y)\n",
    "    r = np.mean(x_std * y_std)\n",
    "    \n",
    "    # Calculate slope\n",
    "    slope = r * (np.std(y) / np.std(x))\n",
    "    \n",
    "    # Calculate intercept\n",
    "    intercept = np.mean(y) - slope * np.mean(x)\n",
    "    \n",
    "    return make_array(r, slope, intercept)\n",
    "\n",
    "constraints = compute_regression_stats(shots) \n",
    "print('r:', constraints.item(0), '; slope:', constraints.item(1), '; intercept:', constraints.item(2))"
   ]
  },
  {
   "cell_type": "code",
   "execution_count": 15,
   "id": "8c587024",
   "metadata": {
    "deletable": false,
    "editable": false
   },
   "outputs": [
    {
     "data": {
      "text/html": [
       "<p><strong><pre style='display: inline;'>q1_5</pre></strong> passed! 💯</p>"
      ],
      "text/plain": [
       "q1_5 results: All test cases passed!"
      ]
     },
     "execution_count": 15,
     "metadata": {},
     "output_type": "execute_result"
    }
   ],
   "source": [
    "grader.check(\"q1_5\")"
   ]
  },
  {
   "cell_type": "markdown",
   "id": "8546aa08",
   "metadata": {
    "deletable": false,
    "editable": false
   },
   "source": [
    "**Question 1.6.**: Now suppose you want to go the other way and predict a free throw percentage (FT %) given a three-point percentage (3PT %). Now 3PT % becomes the explanatory variable used to predict FT % the new response variable. How would various regression statistics be affected? Set `regression_change` equal to an array that includes the numbers of the correct answer choices below. **(5 points)**\n",
    "\n",
    "1) The correlation coefficient will remain unchanged because it only measures the strength and direction of the *linear* relationship between the two variables, regardless of which is the predictor.\n",
    "\n",
    "2) The value of the slope will remain the same because it only reflects the rate of change between the two variables.\n",
    "\n",
    "3) The value of the intercept may change because it is calculated based on the distribution and scale of the predictor variable.\n",
    "\n",
    "4) The units of the slope will not change because the units of the predictor and response variables are independent of each other."
   ]
  },
  {
   "cell_type": "code",
   "execution_count": 16,
   "id": "02b18045",
   "metadata": {
    "execution": {
     "iopub.execute_input": "2022-04-07T03:32:59.385990Z",
     "iopub.status.busy": "2022-04-07T03:32:59.385315Z",
     "iopub.status.idle": "2022-04-07T03:32:59.391551Z",
     "shell.execute_reply": "2022-04-07T03:32:59.390884Z"
    },
    "tags": []
   },
   "outputs": [
    {
     "data": {
      "text/plain": [
       "array([1, 3])"
      ]
     },
     "execution_count": 16,
     "metadata": {},
     "output_type": "execute_result"
    }
   ],
   "source": [
    "regression_change = make_array(1, 3)\n",
    "regression_change"
   ]
  },
  {
   "cell_type": "code",
   "execution_count": 17,
   "id": "94eb12d6",
   "metadata": {
    "deletable": false,
    "editable": false
   },
   "outputs": [
    {
     "data": {
      "text/html": [
       "<p><strong><pre style='display: inline;'>q1_6</pre></strong> passed! 🍀</p>"
      ],
      "text/plain": [
       "q1_6 results: All test cases passed!"
      ]
     },
     "execution_count": 17,
     "metadata": {},
     "output_type": "execute_result"
    }
   ],
   "source": [
    "grader.check(\"q1_6\")"
   ]
  },
  {
   "cell_type": "markdown",
   "id": "2779f25b",
   "metadata": {
    "deletable": false,
    "editable": false
   },
   "source": [
    "**Question 1.7.** Let's use `compute_regression_stats` (from Question 1.5) to predict what certain NBA Players' three point percentage (3PT %) would be given their Free Throw percentage (FT %). **(5 points)**\n",
    "\n",
    "The NBA player with the highest free throw percentage (FT %) is Klay Thompson with 92.7%. What is the prediction for Thompson's three point perecentage (3PT %) using this line?\n",
    "\n"
   ]
  },
  {
   "cell_type": "code",
   "execution_count": 18,
   "id": "d92e7822",
   "metadata": {
    "deletable": false,
    "execution": {
     "iopub.execute_input": "2022-04-07T03:32:59.451738Z",
     "iopub.status.busy": "2022-04-07T03:32:59.451227Z",
     "iopub.status.idle": "2022-04-07T03:32:59.455759Z",
     "shell.execute_reply": "2022-04-07T03:32:59.454937Z"
    },
    "tags": []
   },
   "outputs": [
    {
     "name": "stdout",
     "output_type": "stream",
     "text": [
      "Predicted free throw percentage: 38.8%\n"
     ]
    }
   ],
   "source": [
    "klay_ft_percentage = 92.7\n",
    "\n",
    "# Get slope and intercept from compute_regression_stat function\n",
    "regression_stats = compute_regression_stats(shots)\n",
    "slope = regression_stats.item(1)\n",
    "intercept = regression_stats.item(2)\n",
    "\n",
    "free_throw_3pt_est = slope * klay_ft_percentage + intercept\n",
    "print(\"Predicted free throw percentage: {:.1f}%\".format(np.round(free_throw_3pt_est, 1)))"
   ]
  },
  {
   "cell_type": "code",
   "execution_count": 19,
   "id": "05e2b7f8",
   "metadata": {
    "deletable": false,
    "editable": false
   },
   "outputs": [
    {
     "data": {
      "text/html": [
       "<p><strong><pre style='display: inline;'>q1_7</pre></strong> passed! ✨</p>"
      ],
      "text/plain": [
       "q1_7 results: All test cases passed!"
      ]
     },
     "execution_count": 19,
     "metadata": {},
     "output_type": "execute_result"
    }
   ],
   "source": [
    "grader.check(\"q1_7\")"
   ]
  },
  {
   "cell_type": "markdown",
   "id": "a6eb6a1d",
   "metadata": {
    "deletable": false,
    "editable": false
   },
   "source": [
    "<!-- BEGIN QUESTION -->\n",
    "\n",
    "**Question 1.8.** Is it reliable to use this line to predict three point percentage (3PT %) of players? **(5 points)**\n",
    "\n",
    "*Hint:* Compare Thompson' three point percentage (3PT %)  to the three point percentage in `shots`. Is it relatively similar to the rest of the data (shown in Question 1.3)? \n"
   ]
  },
  {
   "cell_type": "markdown",
   "id": "946d3a26",
   "metadata": {},
   "source": [
    "While the regression line provides a good prediction for Klay Thompson, it may not be reliable for predicting 3PT % for other players, as the correlation between FT % and 3PT % is relatively weak, and the small sample size of only 50 players. With much more players, the regression line might become more robust, and the relationship between 3PT % and FT % could become clearer."
   ]
  },
  {
   "cell_type": "markdown",
   "id": "6d5ff73a",
   "metadata": {
    "deletable": false,
    "editable": false
   },
   "source": [
    "<!-- END QUESTION -->\n",
    "\n",
    "## 2. Smartphone Sales"
   ]
  },
  {
   "cell_type": "markdown",
   "id": "93d14715",
   "metadata": {},
   "source": [
    "Imagine you're a business analyst in December 2020. Smartphones are essential consumer goods, heavily influencing both technological trends and consumer behavior, and you want to understand the dynamics between competing models!\n",
    "\n",
    "The two most popular smartphone models are Apple's iPhone 12 and Samsung's Galaxy S20. Each model has daily sales figures, reflecting its market demand. For example, on the first day of sales in 2020, the iPhone 12 sold 1,060 units, and the Galaxy S20 sold 991 units.\n",
    "\n",
    "**You want to predict the sales of the Galaxy S20 on any given day based on the sales figures of the iPhone 12.** Below, we load a table called `iphone_vs_galaxy`. This table has 3 columns:\n",
    "* `Date`, the date\n",
    "* `iPhone Sales`,  the number of iPhone 12 units sold on that day,\n",
    "* `Galaxy Sales`,  the number of Galaxy S20 units sold on that day,\n",
    "* `Day`, the number of days since the start of our data"
   ]
  },
  {
   "cell_type": "code",
   "execution_count": 20,
   "id": "cac6de3c",
   "metadata": {
    "ExecuteTime": {
     "end_time": "2018-04-04T09:57:46.445990Z",
     "start_time": "2018-04-04T09:57:46.433958Z"
    },
    "execution": {
     "iopub.execute_input": "2022-04-07T03:32:59.497379Z",
     "iopub.status.busy": "2022-04-07T03:32:59.497125Z",
     "iopub.status.idle": "2022-04-07T03:32:59.509256Z",
     "shell.execute_reply": "2022-04-07T03:32:59.508571Z"
    }
   },
   "outputs": [
    {
     "data": {
      "text/html": [
       "<table border=\"1\" class=\"dataframe\">\n",
       "    <thead>\n",
       "        <tr>\n",
       "            <th>Date</th> <th>iPhone Sales</th> <th>Galaxy Sales</th> <th>Day</th>\n",
       "        </tr>\n",
       "    </thead>\n",
       "    <tbody>\n",
       "        <tr>\n",
       "            <td>1/1/20 </td> <td>1060        </td> <td>991         </td> <td>1   </td>\n",
       "        </tr>\n",
       "        <tr>\n",
       "            <td>1/2/20 </td> <td>978         </td> <td>937.5       </td> <td>2   </td>\n",
       "        </tr>\n",
       "        <tr>\n",
       "            <td>1/3/20 </td> <td>1067        </td> <td>983.5       </td> <td>3   </td>\n",
       "        </tr>\n",
       "        <tr>\n",
       "            <td>1/4/20 </td> <td>1167        </td> <td>988         </td> <td>4   </td>\n",
       "        </tr>\n",
       "        <tr>\n",
       "            <td>1/5/20 </td> <td>951         </td> <td>917.5       </td> <td>5   </td>\n",
       "        </tr>\n",
       "        <tr>\n",
       "            <td>1/6/20 </td> <td>946         </td> <td>936.5       </td> <td>6   </td>\n",
       "        </tr>\n",
       "        <tr>\n",
       "            <td>1/7/20 </td> <td>1159        </td> <td>1088.5      </td> <td>7   </td>\n",
       "        </tr>\n",
       "        <tr>\n",
       "            <td>1/8/20 </td> <td>1057        </td> <td>1010.5      </td> <td>8   </td>\n",
       "        </tr>\n",
       "        <tr>\n",
       "            <td>1/9/20 </td> <td>904         </td> <td>991.5       </td> <td>9   </td>\n",
       "        </tr>\n",
       "        <tr>\n",
       "            <td>1/10/20</td> <td>1020        </td> <td>901.5       </td> <td>10  </td>\n",
       "        </tr>\n",
       "        <tr>\n",
       "            <td>1/11/20</td> <td>895         </td> <td>919         </td> <td>11  </td>\n",
       "        </tr>\n",
       "        <tr>\n",
       "            <td>1/12/20</td> <td>890         </td> <td>880         </td> <td>12  </td>\n",
       "        </tr>\n",
       "        <tr>\n",
       "            <td>1/13/20</td> <td>971         </td> <td>1019        </td> <td>13  </td>\n",
       "        </tr>\n",
       "        <tr>\n",
       "            <td>1/14/20</td> <td>708         </td> <td>735.5       </td> <td>14  </td>\n",
       "        </tr>\n",
       "        <tr>\n",
       "            <td>1/15/20</td> <td>727         </td> <td>741.5       </td> <td>15  </td>\n",
       "        </tr>\n",
       "        <tr>\n",
       "            <td>1/16/20</td> <td>863         </td> <td>820         </td> <td>16  </td>\n",
       "        </tr>\n",
       "        <tr>\n",
       "            <td>1/17/20</td> <td>805         </td> <td>713         </td> <td>17  </td>\n",
       "        </tr>\n",
       "        <tr>\n",
       "            <td>1/18/20</td> <td>961         </td> <td>869.5       </td> <td>18  </td>\n",
       "        </tr>\n",
       "        <tr>\n",
       "            <td>1/19/20</td> <td>811         </td> <td>781.5       </td> <td>19  </td>\n",
       "        </tr>\n",
       "        <tr>\n",
       "            <td>1/20/20</td> <td>747         </td> <td>793.5       </td> <td>20  </td>\n",
       "        </tr>\n",
       "    </tbody>\n",
       "</table>\n",
       "<p>... (346 rows omitted)</p>"
      ],
      "text/plain": [
       "<IPython.core.display.HTML object>"
      ]
     },
     "metadata": {},
     "output_type": "display_data"
    }
   ],
   "source": [
    "iphone_vs_galaxy = Table.read_table('iPhone_vs_Galaxy_Sales.csv')\n",
    "iphone_vs_galaxy.show(20)"
   ]
  },
  {
   "cell_type": "markdown",
   "id": "4029f93b",
   "metadata": {
    "deletable": false,
    "editable": false
   },
   "source": [
    "<!-- BEGIN QUESTION -->\n",
    "\n",
    "**Question 2.1.** In the cell below, create an overlaid scatter plot that visualizes the iPhones sales and Galaxy sales as a function of the day. Both iPhone and Galaxy sales should be plotted on the same graph. **(5 points)**\n",
    "\n",
    "*Hint*: [Section 7.3](https://inferentialthinking.com/chapters/07/3/Overlaid_Graphs.html#overlaid-line-plots) in the textbook might be helpful!\n",
    "\n",
    "*Note:* Think about how comparable iPhone 12 and Galaxy S20 sales are.\n"
   ]
  },
  {
   "cell_type": "code",
   "execution_count": 21,
   "id": "76684072",
   "metadata": {
    "deletable": false,
    "execution": {
     "iopub.execute_input": "2022-04-07T03:32:59.552465Z",
     "iopub.status.busy": "2022-04-07T03:32:59.551829Z",
     "iopub.status.idle": "2022-04-07T03:32:59.841018Z",
     "shell.execute_reply": "2022-04-07T03:32:59.840150Z"
    },
    "for_assignment_type": "student",
    "tags": []
   },
   "outputs": [
    {
     "data": {
      "image/png": "[encoded data removed]",
      "text/plain": [
       "<Figure size 500x500 with 1 Axes>"
      ]
     },
     "metadata": {},
     "output_type": "display_data"
    },
    {
     "data": {
      "image/png": "[encoded data removed]",
      "text/plain": [
       "<Figure size 500x500 with 1 Axes>"
      ]
     },
     "metadata": {},
     "output_type": "display_data"
    }
   ],
   "source": [
    "# Create a scatter plot of iPhone Sales and Galaxy Sales as a function of time\n",
    "iphone_vs_galaxy.scatter('Day', 'iPhone Sales', color='blue', label='iPhone Sales')\n",
    "iphone_vs_galaxy.scatter('Day', 'Galaxy Sales', color='orange', label='Galaxy Sales')"
   ]
  },
  {
   "cell_type": "markdown",
   "id": "32d6a9b7",
   "metadata": {
    "deletable": false,
    "editable": false
   },
   "source": [
    "<!-- END QUESTION -->\n",
    "\n",
    "**Question 2.2.** Now, calculate the correlation coefficient between the sales of Apple iPhone 12 and Galaxy S20 using the `correlation` function you defined earlier. **(5 points)**\n"
   ]
  },
  {
   "cell_type": "code",
   "execution_count": 24,
   "id": "cad0b13a",
   "metadata": {
    "ExecuteTime": {
     "end_time": "2018-04-04T09:57:57.365938Z",
     "start_time": "2018-04-04T09:57:57.357879Z"
    },
    "deletable": false,
    "execution": {
     "iopub.execute_input": "2022-04-07T03:32:59.844739Z",
     "iopub.status.busy": "2022-04-07T03:32:59.844079Z",
     "iopub.status.idle": "2022-04-07T03:32:59.850351Z",
     "shell.execute_reply": "2022-04-07T03:32:59.849673Z"
    },
    "tags": []
   },
   "outputs": [
    {
     "data": {
      "text/plain": [
       "0.84201087183279122"
      ]
     },
     "execution_count": 24,
     "metadata": {},
     "output_type": "execute_result"
    }
   ],
   "source": [
    "def correlation(x, y):\n",
    "    x_std = std_units(x)\n",
    "    y_std = std_units(y)\n",
    "    return np.mean(x_std * y_std)\n",
    "\n",
    "iphone_sales = iphone_vs_galaxy.column('iPhone Sales')\n",
    "galaxy_sales = iphone_vs_galaxy.column('Galaxy Sales')\n",
    "\n",
    "r = correlation(iphone_sales, galaxy_sales)\n",
    "r"
   ]
  },
  {
   "cell_type": "code",
   "execution_count": 25,
   "id": "50b2c902",
   "metadata": {
    "deletable": false,
    "editable": false
   },
   "outputs": [
    {
     "data": {
      "text/html": [
       "<p><strong><pre style='display: inline;'>q2_2</pre></strong> passed! 💯</p>"
      ],
      "text/plain": [
       "q2_2 results: All test cases passed!"
      ]
     },
     "execution_count": 25,
     "metadata": {},
     "output_type": "execute_result"
    }
   ],
   "source": [
    "grader.check(\"q2_2\")"
   ]
  },
  {
   "cell_type": "markdown",
   "id": "af9d4e26",
   "metadata": {
    "deletable": false,
    "editable": false
   },
   "source": [
    "**Question 2.3.** Write a function `galaxy_sales_predictor` which takes daily sales figures for the iPhone 12 and predicts the daily sales of the Galaxy S20. Use the function `compute_regression_stats` that you defined earlier in this homework to assist in this process. **(5 points)**\n",
    "\n",
    "*Hint*: Double-check what the `tbl` input to `compute_regression_stats` must look like!\n",
    "\n",
    "*Note*: Ensure that your `galaxy_sales_predictor` function is using least squares linear regression to make predictions.\n",
    "\n"
   ]
  },
  {
   "cell_type": "code",
   "execution_count": 26,
   "id": "2e59dc1a",
   "metadata": {
    "deletable": false,
    "execution": {
     "iopub.execute_input": "2022-04-07T03:32:59.878802Z",
     "iopub.status.busy": "2022-04-07T03:32:59.878510Z",
     "iopub.status.idle": "2022-04-07T03:32:59.883169Z",
     "shell.execute_reply": "2022-04-07T03:32:59.882405Z"
    },
    "tags": []
   },
   "outputs": [],
   "source": [
    "def galaxy_sales_predictor(iPhone_sales):\n",
    "    tbl = iphone_vs_galaxy.select('iPhone Sales', 'Galaxy Sales')\n",
    "    \n",
    "    parameters = compute_regression_stats(tbl)\n",
    "    slope = parameters.item(1)\n",
    "    intercept = parameters.item(2)\n",
    "    \n",
    "    predicted_galaxy_sales = slope * iPhone_sales + intercept\n",
    "    return predicted_galaxy_sales"
   ]
  },
  {
   "cell_type": "code",
   "execution_count": 27,
   "id": "ce9c31cf",
   "metadata": {
    "deletable": false,
    "editable": false
   },
   "outputs": [
    {
     "data": {
      "text/html": [
       "<p><strong><pre style='display: inline;'>q2_3</pre></strong> passed! 🌈</p>"
      ],
      "text/plain": [
       "q2_3 results: All test cases passed!"
      ]
     },
     "execution_count": 27,
     "metadata": {},
     "output_type": "execute_result"
    }
   ],
   "source": [
    "grader.check(\"q2_3\")"
   ]
  },
  {
   "cell_type": "markdown",
   "id": "534f7e8b",
   "metadata": {
    "deletable": false,
    "editable": false
   },
   "source": [
    "<!-- BEGIN QUESTION -->\n",
    "\n",
    "**Question 2.4.** Now, using the `galaxy_sales_predictor` function you just defined, make a scatter plot with iPhone 12 sales along the x-axis and both actual and predicted Galaxy S20 sales along the y-axis. The color of the dots for the actual Galaxy S20 sales should be different from the color for the predicted Galaxy S20 sales. **(5 points)**\n",
    "\n",
    "*Hint 1:* An example of such a scatter plot is generated can be found [here](https://inferentialthinking.com/chapters/15/2/Regression_Line.html). </a>\n",
    "\n",
    "*Hint 2*: Think about the table that must be produced and used to generate this scatter plot. The table should include columns for iPhone 12 sales, actual Galaxy S20 sales, and predicted Galaxy S20 sales. Each row in the table should represent a day’s data. Constructing the table will be the main part of this question; once you have this table, generating the scatter plot should be straightforward as usual.\n"
   ]
  },
  {
   "cell_type": "code",
   "execution_count": 29,
   "id": "986c93e2",
   "metadata": {
    "execution": {
     "iopub.execute_input": "2022-04-07T03:32:59.904214Z",
     "iopub.status.busy": "2022-04-07T03:32:59.903590Z",
     "iopub.status.idle": "2022-04-07T03:33:00.381009Z",
     "shell.execute_reply": "2022-04-07T03:33:00.380065Z"
    },
    "for_assignment_type": "solution",
    "tags": []
   },
   "outputs": [
    {
     "data": {
      "image/png": "[encoded data removed]",
      "text/plain": [
       "<Figure size 500x500 with 1 Axes>"
      ]
     },
     "metadata": {},
     "output_type": "display_data"
    },
    {
     "data": {
      "image/png": "[encoded data removed]",
      "text/plain": [
       "<Figure size 500x500 with 1 Axes>"
      ]
     },
     "metadata": {},
     "output_type": "display_data"
    }
   ],
   "source": [
    "iPhone_sales = iphone_vs_galaxy.column('iPhone Sales')\n",
    "\n",
    "galaxy_actual = iphone_vs_galaxy.column('Galaxy Sales')\n",
    "galaxy_pred = galaxy_sales_predictor(iPhone_sales)\n",
    "galaxy_pred_actual = Table().with_columns(\n",
    "    'iPhone Sales', iPhone_sales,\n",
    "    'Actual Galaxy Sales', galaxy_actual,\n",
    "    'Predicted Galaxy Sales', galaxy_pred)\n",
    "\n",
    "galaxy_pred_actual.scatter(\"iPhone Sales\", \"Actual Galaxy Sales\", color=\"blue\", label=\"Actual Sales\")\n",
    "galaxy_pred_actual.scatter(\"iPhone Sales\", \"Predicted Galaxy Sales\", color=\"orange\", label=\"Predicted Sales\")"
   ]
  },
  {
   "cell_type": "markdown",
   "id": "62e5d04f",
   "metadata": {
    "deletable": false,
    "editable": false
   },
   "source": [
    "<!-- END QUESTION -->\n",
    "\n",
    "<!-- BEGIN QUESTION -->\n",
    "\n",
    "**Question 2.5.** Considering the shape of the scatter plot of the true data, is the model we used reasonable? If so, what features or characteristics make this model reasonable? If not, what features or characteristics make it unreasonable? **(5 points)**\n"
   ]
  },
  {
   "cell_type": "markdown",
   "id": "f606a3fe",
   "metadata": {},
   "source": [
    "The model used seems reasonable overall due to the positive linear relationship between the two scatter plot, the predicted values align closely with the actual observed values, and the correlation coefficient is high as well."
   ]
  },
  {
   "cell_type": "markdown",
   "id": "bc534ed0",
   "metadata": {
    "deletable": false,
    "editable": false
   },
   "source": [
    "<!-- END QUESTION -->\n",
    "\n",
    "## 3. Evaluating NFL Game Predictions"
   ]
  },
  {
   "cell_type": "markdown",
   "id": "11aa68b6",
   "metadata": {},
   "source": [
    "#### A Brief Introduction to Sports Betting\n",
    "\n",
    "In an NFL game, similar to basketball, the team playing at its home stadium is known as the \"home team\", while the team visiting the stadium is the \"away team\". Each team competes to score points through touchdowns, field goals, and safeties, and at the end of the game, the team with the greater number of points is declared the winner.\n",
    "\n",
    "The difference in score can be expressed through what is known as the **outcome**, which is calculated by **subtracting the home team's score from the away team's score**:\n",
    "\n",
    "\n",
    "\n",
    "$$\\text{outcome} = \\text{points scored by the away team} - \\text{points scored by the home team}$$\n",
    "\n",
    "If this number is positive, the away team won. If the number is negative, the home team won the game.\n",
    "\n",
    "In order to facilitate betting on games, analysts at casinos try to predict the outcome of the game. This prediction of the outcome is called the **spread.** The **spread** is a forecast of the number of points by which a stronger team is expected to defeat a weaker one."
   ]
  },
  {
   "cell_type": "code",
   "execution_count": 30,
   "id": "1aa39df3",
   "metadata": {
    "scrolled": false
   },
   "outputs": [
    {
     "data": {
      "text/html": [
       "<table border=\"1\" class=\"dataframe\">\n",
       "    <thead>\n",
       "        <tr>\n",
       "            <th>Date</th> <th>Home Team</th> <th>Away Team</th> <th>Home Score</th> <th>Away Score</th> <th>Outcome</th> <th>Spread</th>\n",
       "        </tr>\n",
       "    </thead>\n",
       "    <tbody>\n",
       "        <tr>\n",
       "            <td>1/14/68</td> <td>GB       </td> <td>LVR      </td> <td>33        </td> <td>14        </td> <td>-19    </td> <td>-13.5 </td>\n",
       "        </tr>\n",
       "        <tr>\n",
       "            <td>1/12/69</td> <td>IND      </td> <td>NYJ      </td> <td>7         </td> <td>16        </td> <td>9      </td> <td>-18   </td>\n",
       "        </tr>\n",
       "        <tr>\n",
       "            <td>1/11/70</td> <td>KC       </td> <td>MIN      </td> <td>23        </td> <td>7         </td> <td>-16    </td> <td>-12   </td>\n",
       "        </tr>\n",
       "        <tr>\n",
       "            <td>1/17/71</td> <td>IND      </td> <td>DAL      </td> <td>16        </td> <td>13        </td> <td>-3     </td> <td>-2.5  </td>\n",
       "        </tr>\n",
       "        <tr>\n",
       "            <td>1/16/72</td> <td>DAL      </td> <td>MIA      </td> <td>24        </td> <td>3         </td> <td>-21    </td> <td>-6    </td>\n",
       "        </tr>\n",
       "        <tr>\n",
       "            <td>1/14/73</td> <td>MIA      </td> <td>WAS      </td> <td>14        </td> <td>7         </td> <td>-7     </td> <td>-1    </td>\n",
       "        </tr>\n",
       "        <tr>\n",
       "            <td>1/13/74</td> <td>MIA      </td> <td>MIN      </td> <td>24        </td> <td>7         </td> <td>-17    </td> <td>-6.5  </td>\n",
       "        </tr>\n",
       "        <tr>\n",
       "            <td>1/12/75</td> <td>MIN      </td> <td>PIT      </td> <td>6         </td> <td>16        </td> <td>10     </td> <td>-3    </td>\n",
       "        </tr>\n",
       "        <tr>\n",
       "            <td>1/18/76</td> <td>DAL      </td> <td>PIT      </td> <td>17        </td> <td>21        </td> <td>4      </td> <td>-7    </td>\n",
       "        </tr>\n",
       "        <tr>\n",
       "            <td>1/9/77 </td> <td>MIN      </td> <td>LVR      </td> <td>14        </td> <td>32        </td> <td>18     </td> <td>-4    </td>\n",
       "        </tr>\n",
       "        <tr>\n",
       "            <td>1/15/78</td> <td>DAL      </td> <td>DEN      </td> <td>27        </td> <td>10        </td> <td>-17    </td> <td>-6    </td>\n",
       "        </tr>\n",
       "        <tr>\n",
       "            <td>1/21/79</td> <td>DAL      </td> <td>PIT      </td> <td>31        </td> <td>35        </td> <td>4      </td> <td>3.5   </td>\n",
       "        </tr>\n",
       "        <tr>\n",
       "            <td>9/1/79 </td> <td>TB       </td> <td>DET      </td> <td>31        </td> <td>16        </td> <td>-15    </td> <td>-3    </td>\n",
       "        </tr>\n",
       "        <tr>\n",
       "            <td>9/2/79 </td> <td>BUF      </td> <td>MIA      </td> <td>7         </td> <td>9         </td> <td>2      </td> <td>-5    </td>\n",
       "        </tr>\n",
       "        <tr>\n",
       "            <td>9/2/79 </td> <td>CHI      </td> <td>GB       </td> <td>6         </td> <td>3         </td> <td>-3     </td> <td>-3    </td>\n",
       "        </tr>\n",
       "        <tr>\n",
       "            <td>9/2/79 </td> <td>DEN      </td> <td>CIN      </td> <td>10        </td> <td>0         </td> <td>-10    </td> <td>-3    </td>\n",
       "        </tr>\n",
       "        <tr>\n",
       "            <td>9/2/79 </td> <td>KC       </td> <td>IND      </td> <td>14        </td> <td>0         </td> <td>-14    </td> <td>-1    </td>\n",
       "        </tr>\n",
       "        <tr>\n",
       "            <td>9/2/79 </td> <td>LAR      </td> <td>LVR      </td> <td>17        </td> <td>24        </td> <td>7      </td> <td>-4    </td>\n",
       "        </tr>\n",
       "        <tr>\n",
       "            <td>9/2/79 </td> <td>MIN      </td> <td>SF       </td> <td>28        </td> <td>22        </td> <td>-6     </td> <td>-7    </td>\n",
       "        </tr>\n",
       "        <tr>\n",
       "            <td>9/2/79 </td> <td>NO       </td> <td>ATL      </td> <td>34        </td> <td>40        </td> <td>6      </td> <td>5     </td>\n",
       "        </tr>\n",
       "    </tbody>\n",
       "</table>\n",
       "<p>... (1063 rows omitted)</p>"
      ],
      "text/plain": [
       "<IPython.core.display.HTML object>"
      ]
     },
     "metadata": {},
     "output_type": "display_data"
    }
   ],
   "source": [
    "nfl_spreads = Table.read_table(\"NFL Spread2.csv\")\n",
    "nfl_spreads.show(20)"
   ]
  },
  {
   "cell_type": "markdown",
   "id": "9e479cbb",
   "metadata": {},
   "source": [
    "Here's a scatter plot of the outcomes and spreads, with the spreads on the horizontal axis."
   ]
  },
  {
   "cell_type": "code",
   "execution_count": 31,
   "id": "4cd09042",
   "metadata": {},
   "outputs": [
    {
     "data": {
      "image/png": "[encoded data removed]",
      "text/plain": [
       "<Figure size 500x500 with 1 Axes>"
      ]
     },
     "metadata": {},
     "output_type": "display_data"
    }
   ],
   "source": [
    "nfl_spreads.scatter(\"Spread\", \"Outcome\")"
   ]
  },
  {
   "cell_type": "markdown",
   "id": "2f3e1ef7",
   "metadata": {},
   "source": [
    "Let's investigate how well the casinos are predicting game outcomes.\n",
    "\n",
    "One question we can ask is: Is the casino's prediction correct on average? In other words, for every value of the spread, is the average outcome of games assigned that spread equal to the spread? If not, the casino would apparently be making a systematic error in its predictions."
   ]
  },
  {
   "cell_type": "markdown",
   "id": "b669cffd",
   "metadata": {
    "deletable": false,
    "editable": false
   },
   "source": [
    "**Question 3.1.** Compute the correlation coefficient between outcomes and spreads. **(5 points)**\n",
    "\n",
    "*Note:* It might be helpful to use the `correlation` function.\n"
   ]
  },
  {
   "cell_type": "code",
   "execution_count": 33,
   "id": "de6822f3",
   "metadata": {
    "deletable": false,
    "execution": {
     "iopub.execute_input": "2022-04-07T03:33:00.701824Z",
     "iopub.status.busy": "2022-04-07T03:33:00.701552Z",
     "iopub.status.idle": "2022-04-07T03:33:00.708023Z",
     "shell.execute_reply": "2022-04-07T03:33:00.707219Z"
    },
    "tags": []
   },
   "outputs": [
    {
     "data": {
      "text/plain": [
       "0.04123242222778848"
      ]
     },
     "execution_count": 33,
     "metadata": {},
     "output_type": "execute_result"
    }
   ],
   "source": [
    "spreads = nfl_spreads.column('Spread')\n",
    "outcomes = nfl_spreads.column('Outcome')\n",
    "\n",
    "nfl_spread_r = correlation(spreads, outcomes)\n",
    "nfl_spread_r"
   ]
  },
  {
   "cell_type": "code",
   "execution_count": 34,
   "id": "c7d029f9",
   "metadata": {
    "deletable": false,
    "editable": false
   },
   "outputs": [
    {
     "data": {
      "text/html": [
       "<p><strong><pre style='display: inline;'>q3_1</pre></strong> passed! 🍀</p>"
      ],
      "text/plain": [
       "q3_1 results: All test cases passed!"
      ]
     },
     "execution_count": 34,
     "metadata": {},
     "output_type": "execute_result"
    }
   ],
   "source": [
    "grader.check(\"q3_1\")"
   ]
  },
  {
   "cell_type": "markdown",
   "id": "45b69f1c",
   "metadata": {
    "deletable": false,
    "editable": false
   },
   "source": [
    "**Question 3.2.** Among games with a spread between .5 and 3.5 (including both .5 and 3.5), what was the average outcome? **(5 points)**\n"
   ]
  },
  {
   "cell_type": "code",
   "execution_count": 35,
   "id": "ad389c9f",
   "metadata": {
    "deletable": false,
    "execution": {
     "iopub.execute_input": "2022-04-07T03:33:00.743345Z",
     "iopub.status.busy": "2022-04-07T03:33:00.742709Z",
     "iopub.status.idle": "2022-04-07T03:33:00.761554Z",
     "shell.execute_reply": "2022-04-07T03:33:00.760731Z"
    },
    "tags": []
   },
   "outputs": [
    {
     "name": "stdout",
     "output_type": "stream",
     "text": [
      "Average outcome for spreads around 2: -3.48958333333\n"
     ]
    }
   ],
   "source": [
    "nfl_spreads_around_2 = nfl_spreads.where('Spread', are.between_or_equal_to(0.5, 3.5))\n",
    "nfl_spread_2_outcome_average = np.mean(nfl_spreads_around_2.column('Outcome'))\n",
    "print(\"Average outcome for spreads around 2:\", nfl_spread_2_outcome_average)"
   ]
  },
  {
   "cell_type": "code",
   "execution_count": 36,
   "id": "9cb2cce6",
   "metadata": {
    "deletable": false,
    "editable": false
   },
   "outputs": [
    {
     "data": {
      "text/html": [
       "<p><strong><pre style='display: inline;'>q3_2</pre></strong> passed! 🙌</p>"
      ],
      "text/plain": [
       "q3_2 results: All test cases passed!"
      ]
     },
     "execution_count": 36,
     "metadata": {},
     "output_type": "execute_result"
    }
   ],
   "source": [
    "grader.check(\"q3_2\")"
   ]
  },
  {
   "cell_type": "markdown",
   "id": "fea658ce",
   "metadata": {
    "deletable": false,
    "editable": false
   },
   "source": [
    "**Question 3.3.** Using the `compute_regression_stats` function that you defined earlier, compute the least squares linear regression line for predicting the actual game outcomes from the provided betting spreads. We have prepared a dataset for you, structured in a two-column format; the first column is labeled `Spread` (predictor variable, x), and the second column is labeled `Outcome` (response variable, y). Use this dataset as an argument to your function to carry out the regression analysis. **(5 points)**\n",
    "\n"
   ]
  },
  {
   "cell_type": "code",
   "execution_count": 37,
   "id": "c129ea7b",
   "metadata": {
    "deletable": false,
    "execution": {
     "iopub.execute_input": "2022-04-07T03:33:00.781303Z",
     "iopub.status.busy": "2022-04-07T03:33:00.780646Z",
     "iopub.status.idle": "2022-04-07T03:33:00.786958Z",
     "shell.execute_reply": "2022-04-07T03:33:00.786287Z"
    },
    "scrolled": true,
    "tags": []
   },
   "outputs": [
    {
     "name": "stdout",
     "output_type": "stream",
     "text": [
      "Slope: 0.066\n",
      "Intercept -2.753\n"
     ]
    }
   ],
   "source": [
    "evaluate_table = nfl_spreads.select('Spread', 'Outcome')\n",
    "approximate = compute_regression_stats(evaluate_table)\n",
    "nfl_spread_slope = approximate.item(1)\n",
    "nfl_spread_intercept = approximate.item(2)\n",
    "print(\"Slope:\", round(nfl_spread_slope, 3))\n",
    "print(\"Intercept\", round(nfl_spread_intercept, 3))"
   ]
  },
  {
   "cell_type": "code",
   "execution_count": 38,
   "id": "739a6bea",
   "metadata": {
    "deletable": false,
    "editable": false
   },
   "outputs": [
    {
     "data": {
      "text/html": [
       "<p><strong><pre style='display: inline;'>q3_3</pre></strong> passed! 💯</p>"
      ],
      "text/plain": [
       "q3_3 results: All test cases passed!"
      ]
     },
     "execution_count": 38,
     "metadata": {},
     "output_type": "execute_result"
    }
   ],
   "source": [
    "grader.check(\"q3_3\")"
   ]
  },
  {
   "cell_type": "markdown",
   "id": "8056bec4",
   "metadata": {
    "deletable": false,
    "editable": false
   },
   "source": [
    "<!-- BEGIN QUESTION -->\n",
    "\n",
    "**Question 3.4.** \n",
    "Do you think this regression line will provide casino analysts with a reliable prediction of game outcomes? Provide a rationale for your answer. Include a discussion of the correlation coefficient and the scatter plot in your answer. **(5 points)**\n"
   ]
  },
  {
   "cell_type": "markdown",
   "id": "af72589d",
   "metadata": {},
   "source": [
    "The regression line will not be reliable for predicting game outcomes because there is no clear linear relationship between the spread and the actual outcomes. Casino analysts should not rely solely on the spread for accurate predictions and should consider something else."
   ]
  },
  {
   "cell_type": "markdown",
   "id": "65ec40cf",
   "metadata": {
    "deletable": false,
    "editable": false
   },
   "source": [
    "<!-- END QUESTION -->\n",
    "\n",
    "### Fitting a Least-Squares Regression Line\n",
    "\n",
    "Recall that the least-squares regression line is the unique straight line that minimizes root mean squared error (RMSE) among all possible fit lines. Using this property, we can find the equation of the regression line by finding the pair of slope and intercept values that minimize root mean squared error. "
   ]
  },
  {
   "cell_type": "markdown",
   "id": "59320aa9",
   "metadata": {
    "deletable": false,
    "editable": false
   },
   "source": [
    "**Question 3.5.** Define a function called `errors`.  It should take three arguments:\n",
    "1. a table `table` like `spreads` (with the same column names and meanings, but not necessarily the same data)\n",
    "2. the `slope` of a line (a number)\n",
    "3. the `intercept` of a line (a number).\n",
    "\n",
    "It should **return an array of the errors** made when a line with that slope and intercept is used to predict outcome from spread for each game in the given table. **(3 points)**\n",
    "\n",
    "*Note*: Make sure you are returning an array of the errors, and not the RMSE. \n"
   ]
  },
  {
   "cell_type": "code",
   "execution_count": 41,
   "id": "4a45493f",
   "metadata": {
    "execution": {
     "iopub.execute_input": "2022-04-07T03:33:00.851750Z",
     "iopub.status.busy": "2022-04-07T03:33:00.851115Z",
     "iopub.status.idle": "2022-04-07T03:33:00.855216Z",
     "shell.execute_reply": "2022-04-07T03:33:00.854441Z"
    },
    "tags": []
   },
   "outputs": [],
   "source": [
    "def errors(table, slope, intercept):\n",
    "    predicted_outcome = slope * table.column(\"Spread\") + intercept\n",
    "    actual_outcome = table.column('Outcome')\n",
    "    error_array = actual_outcome - predicted_outcome\n",
    "    return error_array"
   ]
  },
  {
   "cell_type": "code",
   "execution_count": 42,
   "id": "9e91863a",
   "metadata": {
    "deletable": false,
    "editable": false
   },
   "outputs": [
    {
     "data": {
      "text/html": [
       "<p><strong><pre style='display: inline;'>q3_5</pre></strong> passed! 🌟</p>"
      ],
      "text/plain": [
       "q3_5 results: All test cases passed!"
      ]
     },
     "execution_count": 42,
     "metadata": {},
     "output_type": "execute_result"
    }
   ],
   "source": [
    "grader.check(\"q3_5\")"
   ]
  },
  {
   "cell_type": "markdown",
   "id": "b82bd965",
   "metadata": {
    "deletable": false,
    "editable": false
   },
   "source": [
    "**Question 3.6.** Using `errors`, compute the errors for the line with slope `2` and intercept `35` on the `spreads` dataset. Name that array `outcome_errors`.  Then, make a scatter plot of the errors. **(3 points)**\n",
    "\n",
    "*Hint:* To make a scatter plot of the errors, plot the error for each outcome in the dataset.  Put the actual spread on the horizontal axis and the outcome error on the vertical axis.\n"
   ]
  },
  {
   "cell_type": "code",
   "execution_count": 43,
   "id": "eeac05ef",
   "metadata": {
    "execution": {
     "iopub.execute_input": "2022-04-07T03:33:00.883384Z",
     "iopub.status.busy": "2022-04-07T03:33:00.883189Z",
     "iopub.status.idle": "2022-04-07T03:33:01.173679Z",
     "shell.execute_reply": "2022-04-07T03:33:01.172836Z"
    },
    "scrolled": true,
    "tags": []
   },
   "outputs": [
    {
     "data": {
      "text/plain": [
       "array([-27.,  10., -27., ..., -27., -62.,  -4.])"
      ]
     },
     "execution_count": 43,
     "metadata": {},
     "output_type": "execute_result"
    }
   ],
   "source": [
    "outcome_errors = errors(nfl_spreads, 2, 35)\n",
    "outcome_errors"
   ]
  },
  {
   "cell_type": "code",
   "execution_count": 44,
   "id": "dfc9a3f2",
   "metadata": {
    "deletable": false,
    "editable": false
   },
   "outputs": [
    {
     "data": {
      "text/html": [
       "<p><strong><pre style='display: inline;'>q3_6</pre></strong> passed! 🌈</p>"
      ],
      "text/plain": [
       "q3_6 results: All test cases passed!"
      ]
     },
     "execution_count": 44,
     "metadata": {},
     "output_type": "execute_result"
    }
   ],
   "source": [
    "grader.check(\"q3_6\")"
   ]
  },
  {
   "cell_type": "markdown",
   "id": "84460394",
   "metadata": {},
   "source": [
    "You should find that the errors are almost all negative.  That means our line is not the best fit to our data.  Let's find a better one."
   ]
  },
  {
   "cell_type": "markdown",
   "id": "d847a8f3",
   "metadata": {
    "deletable": false,
    "editable": false
   },
   "source": [
    "**Question 3.7.** Define a function called `fit_line`.  It should take a table like `nfl_spreads` (with the same column names and meanings) as its argument.  It should return an array containing the slope (as the first element) and intercept (as the second element) of the least-squares regression line predicting outcome from spread for that table. **(3 points)**\n",
    "\n",
    "*Hint*: Define a function `rmse` within `fit_line` that takes a slope and intercept as its arguments. `rmse` will use the table passed into `fit_line` to compute predicted outcomes and then return the root mean squared error between the predicted and actual outcomes. Within `fit_line`, you can call `rmse` the way you would any other function.\n",
    "\n",
    "If you haven't tried to use the `minimize` [function](http://data8.org/sp22/python-reference.html) yet, now is a great time to practice. Here's an [example from the textbook](https://www.inferentialthinking.com/chapters/15/3/Method_of_Least_Squares.html#numerical-optimization).\n"
   ]
  },
  {
   "cell_type": "code",
   "execution_count": 55,
   "id": "81747991",
   "metadata": {
    "execution": {
     "iopub.execute_input": "2022-04-07T03:33:01.186019Z",
     "iopub.status.busy": "2022-04-07T03:33:01.185798Z",
     "iopub.status.idle": "2022-04-07T03:33:01.210477Z",
     "shell.execute_reply": "2022-04-07T03:33:01.209593Z"
    },
    "tags": []
   },
   "outputs": [
    {
     "data": {
      "text/plain": [
       "array([ 2.,  1.])"
      ]
     },
     "execution_count": 55,
     "metadata": {},
     "output_type": "execute_result"
    }
   ],
   "source": [
    "def fit_line(tbl):\n",
    "    # Your code may need more than 1 line below here.\n",
    "    def rmse(slope, intercept):\n",
    "        error_val = errors(tbl, slope, intercept)\n",
    "        return np.sqrt(np.mean(error_val ** 2))\n",
    "    best_fit = minimize(rmse, start = (0, 0))\n",
    "    best_slope = best_fit[0]\n",
    "    best_intercept = best_fit[1]\n",
    "    return make_array(best_slope, best_intercept)\n",
    "    \n",
    "# Here is an example call to your function.  To test your function,\n",
    "# figure out the right slope and intercept by hand.\n",
    "example_table = Table().with_columns(\n",
    "    \"Spread\", make_array(0, 1),\n",
    "    \"Outcome\", make_array(1, 3))\n",
    "fit_line(example_table)"
   ]
  },
  {
   "cell_type": "code",
   "execution_count": 56,
   "id": "af594502",
   "metadata": {
    "deletable": false,
    "editable": false
   },
   "outputs": [
    {
     "data": {
      "text/html": [
       "<p><strong><pre style='display: inline;'>q3_7</pre></strong> passed! 🚀</p>"
      ],
      "text/plain": [
       "q3_7 results: All test cases passed!"
      ]
     },
     "execution_count": 56,
     "metadata": {},
     "output_type": "execute_result"
    }
   ],
   "source": [
    "grader.check(\"q3_7\")"
   ]
  },
  {
   "cell_type": "markdown",
   "id": "b677a4f4",
   "metadata": {
    "deletable": false,
    "editable": false
   },
   "source": [
    "**Question 3.8.** Use `fit_line` to fit a line to `spreads`, and assign the output to `regression_line`. Assign the first and second elements in `regression_line` to `regression_line_slope` and `regression_line_intercept`, respectively.\n",
    "\n",
    "Then, set `new_errors` to the array of errors that we get by calling `errors` with our new regression line. The provided code will graph the corresponding residual plot with a best fit line. **(3 points)**\n",
    "\n",
    "*Hint:* Make sure that the residual plot makes sense. What qualities should the best fit line of a residual plot have?\n"
   ]
  },
  {
   "cell_type": "code",
   "execution_count": 57,
   "id": "b582adea",
   "metadata": {
    "execution": {
     "iopub.execute_input": "2022-04-07T03:33:01.340834Z",
     "iopub.status.busy": "2022-04-07T03:33:01.340129Z",
     "iopub.status.idle": "2022-04-07T03:33:01.624862Z",
     "shell.execute_reply": "2022-04-07T03:33:01.623980Z"
    },
    "tags": []
   },
   "outputs": [
    {
     "data": {
      "text/plain": [
       "'Slope: 0.0663584 | Intercept: -2.75309'"
      ]
     },
     "execution_count": 57,
     "metadata": {},
     "output_type": "execute_result"
    },
    {
     "data": {
      "image/png": "[encoded data removed]",
      "text/plain": [
       "<Figure size 500x500 with 1 Axes>"
      ]
     },
     "metadata": {},
     "output_type": "display_data"
    }
   ],
   "source": [
    "regression_line = fit_line(nfl_spreads)\n",
    "regression_line_slope = regression_line.item(0)\n",
    "regression_line_intercept = regression_line.item(1)\n",
    "\n",
    "new_errors = errors(nfl_spreads, regression_line_slope, regression_line_intercept)\n",
    "\n",
    "# This code displays the residual plot, given your values for the regression_line_slope and regression_line_intercept\n",
    "Table().with_columns(\"Spread\", \n",
    "                    nfl_spreads.column(\"Spread\"), \n",
    "                    \"Outcome errors\", \n",
    "                    new_errors\n",
    "                   ).scatter(\"Spread\", \"Outcome errors\", fit_line=True)\n",
    "\n",
    "# This just prints your slope and intercept\n",
    "\"Slope: {:g} | Intercept: {:g}\".format(regression_line_slope, regression_line_intercept)"
   ]
  },
  {
   "cell_type": "code",
   "execution_count": 58,
   "id": "1fa7a59f",
   "metadata": {
    "deletable": false,
    "editable": false
   },
   "outputs": [
    {
     "data": {
      "text/html": [
       "<p><strong><pre style='display: inline;'>q3_8</pre></strong> passed! 🌟</p>"
      ],
      "text/plain": [
       "q3_8 results: All test cases passed!"
      ]
     },
     "execution_count": 58,
     "metadata": {},
     "output_type": "execute_result"
    }
   ],
   "source": [
    "grader.check(\"q3_8\")"
   ]
  },
  {
   "cell_type": "markdown",
   "id": "bf70d672",
   "metadata": {
    "deletable": false,
    "editable": false
   },
   "source": [
    "<!-- BEGIN QUESTION -->\n",
    "\n",
    "**Question 3.9.** How does the process of minimizing the Root Mean Square Error (RMSE) lead to slope and intercept values in Question 3.8 that are consistent with those obtained using previous methods in Question 3.3, even though different techniques are employed? **(3 points)**\n"
   ]
  },
  {
   "cell_type": "markdown",
   "id": "10f36b11",
   "metadata": {},
   "source": [
    "Both the numerical minimization of RMSE and the analytical least-squares method aim to solve the same optimization problem: finding the slope and intercept of the line that minimizes the sum of squared residuals, which is equivalent to minimizing RMSE. The analytical method directly computes the slope and intercept using algebraic formulas, while the minimization method iteratively adjusts the slope and intercept to find the values that minimize the RMSE. Despite using different techniques, both methods ultimately seek to minimize the same error function, leading to identical results for the slope and intercept."
   ]
  },
  {
   "cell_type": "markdown",
   "id": "68fcfe34",
   "metadata": {
    "deletable": false,
    "editable": false
   },
   "source": [
    "<!-- END QUESTION -->\n",
    "\n",
    "You're done with Homework 10!  \n",
    "\n",
    "**Important submission steps:** \n",
    "1. Run the tests and verify that they all pass.\n",
    "2. Choose **Save Notebook** from the **File** menu, then **run the final cell**. \n",
    "3. Click the link to download the zip file.\n",
    "4. Then submit the zip file to the corresponding assignment according to your instructor's directions. \n",
    "\n",
    "**It is your responsibility to make sure your work is saved before running the last cell.**"
   ]
  },
  {
   "cell_type": "code",
   "execution_count": null,
   "id": "31fc11e9",
   "metadata": {},
   "outputs": [],
   "source": []
  },
  {
   "cell_type": "markdown",
   "id": "482ba117",
   "metadata": {
    "deletable": false,
    "editable": false
   },
   "source": [
    "## Submission\n",
    "\n",
    "Make sure you have run all cells in your notebook in order before running the cell below, so that all images/graphs appear in the output. The cell below will generate a zip file for you to submit. **Please save before exporting!**"
   ]
  },
  {
   "cell_type": "code",
   "execution_count": 60,
   "id": "5fa9a4ed",
   "metadata": {
    "deletable": false,
    "editable": false
   },
   "outputs": [
    {
     "name": "stdout",
     "output_type": "stream",
     "text": [
      "Running your submission against local test cases...\n",
      "\n",
      "\n",
      "Your submission received the following results when run against available test cases:\n",
      "\n",
      "    q1_1 results: All test cases passed!\n",
      "\n",
      "    q1_2 results: All test cases passed!\n",
      "\n",
      "    q1_5 results: All test cases passed!\n",
      "\n",
      "    q1_6 results: All test cases passed!\n",
      "\n",
      "    q1_7 results: All test cases passed!\n",
      "\n",
      "    q2_2 results: All test cases passed!\n",
      "\n",
      "    q2_3 results: All test cases passed!\n",
      "\n",
      "    q3_1 results: All test cases passed!\n",
      "\n",
      "    q3_2 results: All test cases passed!\n",
      "\n",
      "    q3_3 results: All test cases passed!\n",
      "\n",
      "    q3_5 results: All test cases passed!\n",
      "\n",
      "    q3_6 results: All test cases passed!\n",
      "\n",
      "    q3_7 results: All test cases passed!\n",
      "\n",
      "    q3_8 results: All test cases passed!\n"
     ]
    },
    {
     "data": {
      "text/html": [
       "\n",
       "                    <p>\n",
       "                        Your submission has been exported. Click\n",
       "                        <a href=\"hw10_2024_11_23T08_20_54_961959.zip\" download=\"hw10_2024_11_23T08_20_54_961959.zip\" target=\"_blank\">here</a> to download\n",
       "                        the zip file.\n",
       "                    </p>\n",
       "                "
      ],
      "text/plain": [
       "<IPython.core.display.HTML object>"
      ]
     },
     "metadata": {},
     "output_type": "display_data"
    }
   ],
   "source": [
    "# Save your notebook first, then run this cell to export your submission.\n",
    "grader.export(pdf=False, run_tests=True)"
   ]
  },
  {
   "cell_type": "markdown",
   "id": "6b8bb9ec",
   "metadata": {},
   "source": [
    " "
   ]
  }
 ],
 "metadata": {
  "kernelspec": {
   "display_name": "Python 3 (ipykernel)",
   "language": "python",
   "name": "python3"
  },
  "language_info": {
   "codemirror_mode": {
    "name": "ipython",
    "version": 3
   },
   "file_extension": ".py",
   "mimetype": "text/x-python",
   "name": "python",
   "nbconvert_exporter": "python",
   "pygments_lexer": "ipython3",
   "version": "3.10.11"
  },
  "otter": {
   "OK_FORMAT": true,
   "tests": {
    "q1_1": {
     "name": "q1_1",
     "points": [
      0,
      0,
      0
     ],
     "suites": [
      {
       "cases": [
        {
         "code": ">>> std_units([1, 2, 3, 4, 5])\narray([-1.41421356, -0.70710678,  0.        ,  0.70710678,  1.41421356])",
         "hidden": false,
         "locked": false
        },
        {
         "code": ">>> np.isclose(np.mean(std_units([1, 2, 3, 4, 5])), 0)\nTrue",
         "hidden": false,
         "locked": false
        },
        {
         "code": ">>> np.isclose(np.std(std_units([1, 2, 3, 4, 5])), 0.9999999999999999)\nTrue",
         "hidden": false,
         "locked": false
        }
       ],
       "scored": true,
       "setup": "",
       "teardown": "",
       "type": "doctest"
      }
     ]
    },
    "q1_2": {
     "name": "q1_2",
     "points": [
      0
     ],
     "suites": [
      {
       "cases": [
        {
         "code": ">>> np.isclose(correlation([1, 2, 3], [4, 5, 6]), 0.9999999999999999)\nTrue",
         "hidden": false,
         "locked": false
        }
       ],
       "scored": true,
       "setup": "",
       "teardown": "",
       "type": "doctest"
      }
     ]
    },
    "q1_5": {
     "name": "q1_5",
     "points": [
      0,
      0,
      0
     ],
     "suites": [
      {
       "cases": [
        {
         "code": ">>> len(constraints) == 3\nTrue",
         "hidden": false,
         "locked": false
        },
        {
         "code": ">>> type(constraints) == np.ndarray\nTrue",
         "hidden": false,
         "locked": false
        },
        {
         "code": ">>> np.isclose(constraints.item(0), 0.11003088267167993)\nTrue",
         "hidden": false,
         "locked": false
        }
       ],
       "scored": true,
       "setup": "",
       "teardown": "",
       "type": "doctest"
      }
     ]
    },
    "q1_6": {
     "name": "q1_6",
     "points": [
      0,
      0
     ],
     "suites": [
      {
       "cases": [
        {
         "code": ">>> len(regression_change) == 2 and type(regression_change) == np.ndarray\nTrue",
         "hidden": false,
         "locked": false
        },
        {
         "code": ">>> regression_change.item(0) in set([0, 1, False, True])\nTrue",
         "hidden": false,
         "locked": false
        }
       ],
       "scored": true,
       "setup": "",
       "teardown": "",
       "type": "doctest"
      }
     ]
    },
    "q1_7": {
     "name": "q1_7",
     "points": [
      0
     ],
     "suites": [
      {
       "cases": [
        {
         "code": ">>> 35 <= free_throw_3pt_est <= 45\nTrue",
         "hidden": false,
         "locked": false
        }
       ],
       "scored": true,
       "setup": "",
       "teardown": "",
       "type": "doctest"
      }
     ]
    },
    "q2_2": {
     "name": "q2_2",
     "points": [
      0,
      0
     ],
     "suites": [
      {
       "cases": [
        {
         "code": ">>> -1 <= r <= 1\nTrue",
         "hidden": false,
         "locked": false
        },
        {
         "code": ">>> std_units(np.arange(5)) is None or np.allclose(std_units(np.arange(5)), [-1.41421356, -0.70710678, 0, 0.70710678, 1.41421356])\nTrue",
         "hidden": false,
         "locked": false
        }
       ],
       "scored": true,
       "setup": "",
       "teardown": "",
       "type": "doctest"
      }
     ]
    },
    "q2_3": {
     "name": "q2_3",
     "points": [
      0,
      2
     ],
     "suites": [
      {
       "cases": [
        {
         "code": ">>> galaxy_sales_predictor(np.arange(10, 15))\narray([ 308.08464403,  308.73092002,  309.37719601,  310.02347201,\n        310.669748  ])",
         "hidden": false,
         "locked": false
        },
        {
         "code": ">>> 0 < galaxy_sales_predictor(10) < 400\nTrue",
         "hidden": false,
         "locked": false
        }
       ],
       "scored": true,
       "setup": "",
       "teardown": "",
       "type": "doctest"
      }
     ]
    },
    "q3_1": {
     "name": "q3_1",
     "points": [
      0
     ],
     "suites": [
      {
       "cases": [
        {
         "code": ">>> -1 <= nfl_spread_r <= 1\nTrue",
         "hidden": false,
         "locked": false
        }
       ],
       "scored": true,
       "setup": "",
       "teardown": "",
       "type": "doctest"
      }
     ]
    },
    "q3_2": {
     "name": "q3_2",
     "points": [
      0
     ],
     "suites": [
      {
       "cases": [
        {
         "code": ">>> -4 <= nfl_spread_2_outcome_average <= nfl_spread_2_outcome_average\nTrue",
         "hidden": false,
         "locked": false
        }
       ],
       "scored": true,
       "setup": "",
       "teardown": "",
       "type": "doctest"
      }
     ]
    },
    "q3_3": {
     "name": "q3_3",
     "points": [
      0
     ],
     "suites": [
      {
       "cases": [
        {
         "code": ">>> -1 <= nfl_spread_slope < 0.6\nTrue",
         "hidden": false,
         "locked": false
        }
       ],
       "scored": true,
       "setup": "",
       "teardown": "",
       "type": "doctest"
      }
     ]
    },
    "q3_5": {
     "name": "q3_5",
     "points": [
      0,
      0
     ],
     "suites": [
      {
       "cases": [
        {
         "code": ">>> type(errors(nfl_spreads, 0, 0).item(0)) in set([float, np.float32, np.float64])\nTrue",
         "hidden": false,
         "locked": false
        },
        {
         "code": ">>> len(errors(nfl_spreads, 0, 0)) == 1083\nTrue",
         "hidden": false,
         "locked": false
        }
       ],
       "scored": true,
       "setup": "",
       "teardown": "",
       "type": "doctest"
      }
     ]
    },
    "q3_6": {
     "name": "q3_6",
     "points": [
      3
     ],
     "suites": [
      {
       "cases": [
        {
         "code": ">>> np.round(outcome_errors.item(0), 2) == -27.0\nTrue",
         "hidden": false,
         "locked": false
        }
       ],
       "scored": true,
       "setup": "",
       "teardown": "",
       "type": "doctest"
      }
     ]
    },
    "q3_7": {
     "name": "q3_7",
     "points": [
      0,
      0
     ],
     "suites": [
      {
       "cases": [
        {
         "code": ">>> type(fit_line(example_table)) == np.ndarray\nTrue",
         "hidden": false,
         "locked": false
        },
        {
         "code": ">>> type(fit_line(example_table).item(0)) in set([float, np.float32, np.float64])\nTrue",
         "hidden": false,
         "locked": false
        }
       ],
       "scored": true,
       "setup": "",
       "teardown": "",
       "type": "doctest"
      }
     ]
    },
    "q3_8": {
     "name": "q3_8",
     "points": [
      0
     ],
     "suites": [
      {
       "cases": [
        {
         "code": ">>> len(new_errors) == 1083\nTrue",
         "hidden": false,
         "locked": false
        }
       ],
       "scored": true,
       "setup": "",
       "teardown": "",
       "type": "doctest"
      }
     ]
    }
   }
  }
 },
 "nbformat": 4,
 "nbformat_minor": 5
}
